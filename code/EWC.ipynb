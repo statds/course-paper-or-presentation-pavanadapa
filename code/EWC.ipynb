{
  "cells": [],
  "metadata": {
    "colab": {
      "provenance": []
    },
    "kernelspec": {
      "display_name": "Python 3.10.5 64-bit",
      "language": "python",
      "name": "python3"
    },
    "language_info": {
      "codemirror_mode": {
        "name": "ipython",
        "version": 3
      },
      "file_extension": ".py",
      "mimetype": "text/x-python",
      "name": "python",
      "nbconvert_exporter": "python",
      "pygments_lexer": "ipython3",
      "version": "3.10.5"
    },
    "vscode": {
      "interpreter": {
        "hash": "9d462704a4263eed20a2e7759ccc71a2a9c464bfce930e210769bfd3971fa943"
      }
    }
  },
  "nbformat": 4,
  "nbformat_minor": 0
}
